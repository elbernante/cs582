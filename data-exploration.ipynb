{
 "cells": [
  {
   "cell_type": "code",
   "execution_count": 1,
   "metadata": {
    "collapsed": true
   },
   "outputs": [],
   "source": [
    "import glob, os, pickle\n",
    "import numpy as np\n",
    "import cv2\n",
    "from tqdm import tqdm"
   ]
  },
  {
   "cell_type": "code",
   "execution_count": 2,
   "metadata": {},
   "outputs": [],
   "source": [
    "FILE_EXT = 'tif'\n",
    "TRAIN_DIR = 'data/train'"
   ]
  },
  {
   "cell_type": "code",
   "execution_count": 3,
   "metadata": {
    "collapsed": true
   },
   "outputs": [],
   "source": [
    "def get_image_sets(image_dir=TRAIN_DIR):\n",
    "    prefix_len = len(os.path.join(image_dir, ''))\n",
    "    imgs = glob.glob(os.path.join(image_dir, \"*[0-9]_*[0-9].{}\".format(FILE_EXT)))\n",
    "    to_int = lambda k: tuple([int(i) for i in k.split('_')])\n",
    "    return sorted([s[prefix_len:s.rindex('.')] for s in imgs], key=to_int)\n",
    "\n",
    "def get_image(img_key, image_dir=TRAIN_DIR):\n",
    "    return cv2.imread(os.path.join(image_dir, '{}.{}'.format(img_key, FILE_EXT)), cv2.IMREAD_GRAYSCALE)\n",
    "\n",
    "def get_image_label(img_key, image_dir=TRAIN_DIR):\n",
    "    return cv2.imread(os.path.join(image_dir, '{}_mask.{}'.format(img_key, FILE_EXT)), cv2.IMREAD_GRAYSCALE) // 255\n",
    "\n",
    "def has_label(img_key, image_dir=TRAIN_DIR):\n",
    "    img = get_image_label(img_key, image_dir=image_dir)\n",
    "    return img.sum() > 0\n",
    "\n",
    "has_label = np.vectorize(has_label, otypes=[np.bool], excluded=['image_dir'])\n",
    "\n",
    "def get_patient_ids(image_dir=TRAIN_DIR):\n",
    "    \"\"\"Returns list of patient IDs\"\"\"\n",
    "    \n",
    "    prefix_len = len(os.path.join(image_dir, ''))\n",
    "    imgs = glob.glob(os.path.join(image_dir, \"*[0-9]_*[0-9].{}\".format(FILE_EXT)))\n",
    "    return sorted(set([int(s[prefix_len:].split('_')[0]) for s in imgs]))\n",
    "\n",
    "def get_images_for_patient(patient_id, image_dir=TRAIN_DIR):\n",
    "    \"\"\"Returns images IDs of a patient\"\"\"\n",
    "\n",
    "    prefix_len = len(os.path.join(image_dir, ''))\n",
    "    imgs = glob.glob(os.path.join(image_dir, \n",
    "                     \"{}_*[0-9].{}\".format(patient_id, FILE_EXT)))\n",
    "    to_int = lambda k: tuple([int(i) for i in k.split('_')])\n",
    "    return sorted([s[prefix_len:s.rindex('.')] for s in imgs], key=to_int)"
   ]
  },
  {
   "cell_type": "code",
   "execution_count": 4,
   "metadata": {
    "collapsed": true
   },
   "outputs": [],
   "source": [
    "def similarity(img_1, img_2):\n",
    "    scanned = cv2.matchTemplate(img_1, img_2, cv2.TM_CCOEFF_NORMED)\n",
    "    minVal, maxVal, minLoc, maxLoc = cv2.minMaxLoc(scanned)\n",
    "    return maxVal\n",
    "\n",
    "def get_similar_images(src, scope, threshold=0.8):\n",
    "    src_img = get_image(src)\n",
    "    return [key for key in scope if similarity(src_img, get_image(key)) >= threshold]\n",
    "\n",
    "def group_by_similarity(threshold=0.7):\n",
    "    groups = []\n",
    "    patients = get_patient_ids()\n",
    "    for p in tqdm(patients):\n",
    "        imgs = set(get_images_for_patient(p))\n",
    "        while imgs:\n",
    "            img = imgs.pop()\n",
    "            members = get_similar_images(img, imgs, threshold=threshold)\n",
    "            groups.append(pack_group(img, members))\n",
    "            imgs.difference_update(members)\n",
    "    return groups\n",
    "\n",
    "def pack_group(key, members):\n",
    "    members.append(key)\n",
    "    g ={'key': key, 'items': members}\n",
    "    count = len(g['items'])\n",
    "    has_labels = has_label(g['items'])\n",
    "    g['has_labels'] = list(has_labels)\n",
    "    g['has_label_count'] = int(has_labels.sum())\n",
    "    g['no_label_count'] = count - int(has_labels.sum())\n",
    "    g['count'] = count\n",
    "    return g\n",
    "\n",
    "# Pickle groups\n",
    "def pickle_groups(groups):\n",
    "    with open('data/group_by_similarity.pkl', 'wb') as f:\n",
    "        pickle.dump(groups, f)\n",
    "        \n",
    "def get_pickled_groups():\n",
    "    with open('data/group_by_similarity.pkl', 'rb') as f:\n",
    "        groups = pickle.load(f)\n",
    "    return groups"
   ]
  },
  {
   "cell_type": "code",
   "execution_count": 5,
   "metadata": {},
   "outputs": [
    {
     "name": "stderr",
     "output_type": "stream",
     "text": [
      "100%|██████████| 47/47 [20:53<00:00, 26.67s/it]"
     ]
    },
    {
     "name": "stdout",
     "output_type": "stream",
     "text": [
      "Group count: 1981\n"
     ]
    },
    {
     "name": "stderr",
     "output_type": "stream",
     "text": [
      "\n"
     ]
    }
   ],
   "source": [
    "def execute_group_images_by_similarity():\n",
    "    groups = group_by_similarity()\n",
    "    pickle_groups(groups)\n",
    "    g = get_pickled_groups()\n",
    "    print(\"Group count:\", len(g))\n",
    "execute_group_images_by_similarity()"
   ]
  },
  {
   "cell_type": "code",
   "execution_count": 6,
   "metadata": {},
   "outputs": [
    {
     "name": "stdout",
     "output_type": "stream",
     "text": [
      "True\n"
     ]
    }
   ],
   "source": [
    "def scratch():\n",
    "    print(all([True, True]))\n",
    "scratch()"
   ]
  },
  {
   "cell_type": "code",
   "execution_count": null,
   "metadata": {
    "collapsed": true
   },
   "outputs": [],
   "source": []
  }
 ],
 "metadata": {
  "kernelspec": {
   "display_name": "Python 3",
   "language": "python",
   "name": "python3"
  },
  "language_info": {
   "codemirror_mode": {
    "name": "ipython",
    "version": 3
   },
   "file_extension": ".py",
   "mimetype": "text/x-python",
   "name": "python",
   "nbconvert_exporter": "python",
   "pygments_lexer": "ipython3",
   "version": "3.6.3"
  }
 },
 "nbformat": 4,
 "nbformat_minor": 2
}
